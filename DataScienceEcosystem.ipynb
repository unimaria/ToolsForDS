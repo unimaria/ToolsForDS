{
 "cells": [
  {
   "cell_type": "markdown",
   "id": "e1263cca-ba44-434f-ae9b-0f712fda059c",
   "metadata": {},
   "source": [
    "# Data Science Tools and Ecosystem"
   ]
  },
  {
   "cell_type": "markdown",
   "id": "1ec7d1fc-04c5-4e08-97c7-9b06b6c99ceb",
   "metadata": {},
   "source": [
    "In this notebook, Data Science Tools and Ecosystem are summarized."
   ]
  },
  {
   "cell_type": "markdown",
   "id": "ee26eff8-149f-42da-b4b2-b913dfbab6c9",
   "metadata": {},
   "source": [
    "**Objectives:**\n",
    "+ List of popular languages for Data Science\n",
    "+ List of commonly used libraries used by Data Scientists\n",
    "+ List of development environment open source tools used in data science\n",
    "+ Examples of evaluating arithmetic expressions in Python"
   ]
  },
  {
   "cell_type": "markdown",
   "id": "5af5f885-15d0-4fde-b4a8-84a4164fb923",
   "metadata": {},
   "source": [
    "Some of the popular languages that Data Scientists use are:\n",
    "1. python\n",
    "2. R\n",
    "3. SQL"
   ]
  },
  {
   "cell_type": "markdown",
   "id": "d12b2d72-9997-4456-9dc3-999d25800a6c",
   "metadata": {},
   "source": [
    "Some of the commonly used libraries used by Data Scientists include:\n",
    "1. numpy\n",
    "2. TensorFlow\n",
    "3. pandas\n",
    "4. Matplotlib"
   ]
  },
  {
   "cell_type": "markdown",
   "id": "a9b5e208-ea4d-471f-9f9a-75e091657a53",
   "metadata": {},
   "source": [
    "| Data Science Tools |\n",
    "| ------------------ |\n",
    "| RStudio |\n",
    "| ApacheSpark |\n",
    "| Apache Hadoop |"
   ]
  },
  {
   "cell_type": "markdown",
   "id": "e5799a8d-e276-487d-85a9-d82bd2b94549",
   "metadata": {},
   "source": [
    "### Below are a few examples of evaluating arithmetic expressions in Python"
   ]
  },
  {
   "cell_type": "code",
   "execution_count": 1,
   "id": "4505bed9-6d79-4760-8521-ba7be9c2116e",
   "metadata": {
    "tags": []
   },
   "outputs": [
    {
     "data": {
      "text/plain": [
       "17"
      ]
     },
     "execution_count": 1,
     "metadata": {},
     "output_type": "execute_result"
    }
   ],
   "source": [
    "# This a simple arithmetic expression to mutiply then add integers\n",
    "(3*4)+5"
   ]
  },
  {
   "cell_type": "code",
   "execution_count": 2,
   "id": "48574ad3-e95c-4ce4-bd5f-5a1bf4bf005b",
   "metadata": {
    "tags": []
   },
   "outputs": [
    {
     "data": {
      "text/plain": [
       "3.3333333333333335"
      ]
     },
     "execution_count": 2,
     "metadata": {},
     "output_type": "execute_result"
    }
   ],
   "source": [
    "# This will convert 200 minutes to hours by diving by 60\n",
    "200 / 60"
   ]
  },
  {
   "cell_type": "markdown",
   "id": "25c2b167-7e9b-4349-a662-cefee2822207",
   "metadata": {},
   "source": [
    "## Author\n",
    "Maria Tseytlin"
   ]
  },
  {
   "cell_type": "code",
   "execution_count": null,
   "id": "35023f2c-15c8-4771-a548-4c0a4eecff7d",
   "metadata": {},
   "outputs": [],
   "source": []
  }
 ],
 "metadata": {
  "kernelspec": {
   "display_name": "Python",
   "language": "python",
   "name": "conda-env-python-py"
  },
  "language_info": {
   "codemirror_mode": {
    "name": "ipython",
    "version": 3
   },
   "file_extension": ".py",
   "mimetype": "text/x-python",
   "name": "python",
   "nbconvert_exporter": "python",
   "pygments_lexer": "ipython3",
   "version": "3.7.12"
  }
 },
 "nbformat": 4,
 "nbformat_minor": 5
}
